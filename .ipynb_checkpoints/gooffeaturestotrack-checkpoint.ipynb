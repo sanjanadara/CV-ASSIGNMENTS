{
 "cells": [
  {
   "cell_type": "code",
   "execution_count": null,
   "id": "7e77215c",
   "metadata": {},
   "outputs": [],
   "source": [
    "import cv2\n",
    "\n",
    "img= cv2.imread('chess7.jpeg')\n",
    "gray= cv2.cvtColor(img, cv2.COLOR_BGR2GRAY)\n",
    "\n",
    "font = cv2.FONT_HERSHEY_SIMPLEX\n",
    "fontScale = 0.8\n",
    "color = (28, 147, 26)\n",
    "thickness = 3\n",
    "\n",
    "corners= cv2.goodFeaturesToTrack(gray, 100, 0.01, 50, False)\n",
    "c=0\n",
    "for corner in corners:\n",
    "    x,y= corner[0]\n",
    "    x= int(x)\n",
    "    y= int(y)\n",
    "    print(x,y)\n",
    "    c+=1\n",
    "    cv2.rectangle(img, (x-10,y-10),(x+10,y+10),(20,20,232),-1)\n",
    "    a = (x-77)//77\n",
    "    b = (y-77)//153\n",
    "    text = '('+str(a)+\",\"+str(b)+\")\"\n",
    "    org = (x+5, y-25)\n",
    "    img = cv2.putText(img, text, org, font, fontScale, color, thickness, cv2.LINE_AA)\n",
    "\n",
    "print(\"c :\",c)\n",
    "\n",
    "\n",
    "cv2.imshow(\"Corner Detection\", img)\n",
    "cv2.waitKey()\n",
    "cv2.destroyAllWindows()"
   ]
  },
  {
   "cell_type": "code",
   "execution_count": null,
   "id": "6b88db17",
   "metadata": {},
   "outputs": [],
   "source": [
    "import cv2 as cv\n",
    "import numpy as np\n",
    "\n",
    "img = cv.imread(\"chess9.jpeg\")\n",
    "gray = cv.cvtColor(img,cv.COLOR_BGR2GRAY)\n",
    "\n",
    "gray = np.float32(gray)\n",
    "(thresh, binary) = cv.threshold(gray, 127, 255, cv.THRESH_BINARY)\n",
    "\n",
    "dst = cv.cornerHarris(gray,3,3,0.05)\n",
    "kernel= np.ones((7,7), np.uint8)\n",
    "\n",
    "dst=cv.dilate(dst,kernel,iterations=2);\n",
    "\n",
    "img[dst>0.025 * dst.max()] = [20,20,232]\n",
    "img =cv.resize(img,(650,650),interpolation=cv.INTER_NEAREST)\n",
    "cv.imshow('dst',img)\n",
    "cv.waitKey(0);\n",
    "cv.destroyAllWindows()"
   ]
  },
  {
   "cell_type": "code",
   "execution_count": null,
   "id": "1f37619d",
   "metadata": {},
   "outputs": [],
   "source": []
  },
  {
   "cell_type": "code",
   "execution_count": null,
   "id": "0cb196a1",
   "metadata": {},
   "outputs": [],
   "source": []
  }
 ],
 "metadata": {
  "kernelspec": {
   "display_name": "Python 3 (ipykernel)",
   "language": "python",
   "name": "python3"
  },
  "language_info": {
   "codemirror_mode": {
    "name": "ipython",
    "version": 3
   },
   "file_extension": ".py",
   "mimetype": "text/x-python",
   "name": "python",
   "nbconvert_exporter": "python",
   "pygments_lexer": "ipython3",
   "version": "3.8.8"
  }
 },
 "nbformat": 4,
 "nbformat_minor": 5
}
