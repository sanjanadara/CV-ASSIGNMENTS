{
 "cells": [
  {
   "cell_type": "code",
   "execution_count": 1,
   "id": "721975bd",
   "metadata": {
    "scrolled": true
   },
   "outputs": [
    {
     "ename": "SyntaxError",
     "evalue": "invalid syntax (2210209357.py, line 26)",
     "output_type": "error",
     "traceback": [
      "\u001b[0;36m  File \u001b[0;32m\"/var/folders/w4/y3_mcz7j0ts7jglnddb_vfb40000gn/T/ipykernel_55672/2210209357.py\"\u001b[0;36m, line \u001b[0;32m26\u001b[0m\n\u001b[0;31m    print(c :,c)\u001b[0m\n\u001b[0m            ^\u001b[0m\n\u001b[0;31mSyntaxError\u001b[0m\u001b[0;31m:\u001b[0m invalid syntax\n"
     ]
    }
   ],
   "source": [
    "import cv2\n",
    "\n",
    "img= cv2.imread('chess8.jpeg')\n",
    "gray= cv2.cvtColor(img, cv2.COLOR_BGR2GRAY)\n",
    "\n",
    "font = cv2.FONT_HERSHEY_SIMPLEX\n",
    "fontScale = 0.8\n",
    "color = (28, 147, 26)\n",
    "thickness = 3\n",
    "\n",
    "corners= cv2.goodFeaturesToTrack(gray, 100, 0.005, 50,useHarrisDetector=True)\n",
    "c=0\n",
    "for corner in corners:\n",
    "    x,y= corner[0]\n",
    "    x= int(x)\n",
    "    y= int(y)\n",
    "    print(x,y)\n",
    "    c+=1\n",
    "    cv2.rectangle(img, (x+10,y+10),(x-10,y-10),(20,20,232),-1)\n",
    "    a = (x-64)//142\n",
    "    b = (y-64)//142\n",
    "    text = '('+str(a)+\",\"+str(b)+\")\"\n",
    "    org = (x+5, y-25)\n",
    "    img = cv2.putText(img, text, org, font, fontScale, color, thickness, cv2.LINE_AA)\n",
    "\n",
    "#print(c :,c)\n",
    "\n",
    "img =cv2.resize(img,(650,650),interpolation=cv2.INTER_NEAREST)\n",
    "cv2.imshow(\"Corner Detection\", img)\n",
    "cv2.waitKey()\n",
    "cv2.destroyAllWindows()\n"
   ]
  },
  {
   "cell_type": "code",
   "execution_count": null,
   "id": "18277745",
   "metadata": {},
   "outputs": [],
   "source": [
    "\n"
   ]
  }
 ],
 "metadata": {
  "kernelspec": {
   "display_name": "Python 3 (ipykernel)",
   "language": "python",
   "name": "python3"
  },
  "language_info": {
   "codemirror_mode": {
    "name": "ipython",
    "version": 3
   },
   "file_extension": ".py",
   "mimetype": "text/x-python",
   "name": "python",
   "nbconvert_exporter": "python",
   "pygments_lexer": "ipython3",
   "version": "3.8.8"
  }
 },
 "nbformat": 4,
 "nbformat_minor": 5
}
