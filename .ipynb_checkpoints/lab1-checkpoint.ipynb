{
 "cells": [
  {
   "cell_type": "code",
   "execution_count": null,
   "id": "85479032",
   "metadata": {},
   "outputs": [
    {
     "name": "stdout",
     "output_type": "stream",
     "text": [
      "FOR ORIGINAL IMAGE\n",
      "Max = 255\n",
      "Min= 0\n",
      "GRAY IMAGE\n",
      "Max = 255\n",
      "Min= 8\n",
      "BINARY IMAGE\n",
      "Max = 255\n",
      "Min= 8\n"
     ]
    }
   ],
   "source": [
    "import cv2\n",
    "import numpy as np\n",
    " \n",
    "image = cv2.imread('2.jpeg')\n",
    "gray = cv2.cvtColor(image, cv2.COLOR_BGR2GRAY)\n",
    "(thresh, binary) = cv2.threshold(gray, 127, 255, cv2.THRESH_BINARY)\n",
    " \n",
    "cv2.imshow('Binary', binary)\n",
    "cv2.imshow('Original image',image)\n",
    "cv2.imshow('Gray image', gray)\n",
    "\n",
    "print(\"FOR ORIGINAL IMAGE\")\n",
    "\n",
    "max_channels = np.amax([np.amax(image[:,:,0],axis=(0,1)), np.amax(image[:,:,1],axis=(0,1)), np.amax(image[:,:,2],axis=(0,1))])\n",
    "min_channels=np.amin([np.amin(image[:,:,0],axis=(0,1)), np.amin(image[:,:,1],axis=(0,1)), np.amin(image[:,:,2],axis=(0,1))])\n",
    "print('Max =',max_channels)\n",
    "print('Min=',min_channels)\n",
    "\n",
    "print(\"GRAY IMAGE\")\n",
    "\n",
    "max_gray = np.amax(gray,axis=(0,1))\n",
    "min_gray = np.amin(gray,axis=(0,1))\n",
    "print('Max =',max_gray)\n",
    "print('Min=',min_gray)\n",
    "\n",
    "print(\"BINARY IMAGE\")\n",
    "\n",
    "max_binary = np.amax(binary,axis=(0,1))\n",
    "min_binary = np.amin(binary,axis=(0,1))\n",
    "print('Max =',max_gray)\n",
    "print('Min=',min_gray)\n",
    "\n",
    "cv2.waitKey(0)\n",
    "cv2.destroyAllWindows()\n"
   ]
  },
  {
   "cell_type": "code",
   "execution_count": null,
   "id": "ccf538f0",
   "metadata": {
    "scrolled": true
   },
   "outputs": [],
   "source": []
  },
  {
   "cell_type": "code",
   "execution_count": null,
   "id": "90787d0c",
   "metadata": {},
   "outputs": [],
   "source": []
  },
  {
   "cell_type": "code",
   "execution_count": null,
   "id": "765940fe",
   "metadata": {},
   "outputs": [],
   "source": []
  }
 ],
 "metadata": {
  "kernelspec": {
   "display_name": "Python 3 (ipykernel)",
   "language": "python",
   "name": "python3"
  },
  "language_info": {
   "codemirror_mode": {
    "name": "ipython",
    "version": 3
   },
   "file_extension": ".py",
   "mimetype": "text/x-python",
   "name": "python",
   "nbconvert_exporter": "python",
   "pygments_lexer": "ipython3",
   "version": "3.8.8"
  }
 },
 "nbformat": 4,
 "nbformat_minor": 5
}
